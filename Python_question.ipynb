{
 "cells": [
  {
   "cell_type": "markdown",
   "metadata": {},
   "source": [
    "1번 문제<br>\n",
    ">다수의 이름(key)과 나이(value)가 dictionary 형태로 저장되어 있고 임의의 나이를 입력했을때 동일한 나이의 이름이 출력되도록 하시오.<br>\n",
    ">예시)   dict = [\"suzy\" : 21, \"Park\" : 24, \"jung\" : 24, \"sung\" : 25]        "
   ]
  },
  {
   "cell_type": "code",
   "execution_count": null,
   "metadata": {},
   "outputs": [],
   "source": []
  },
  {
   "cell_type": "markdown",
   "metadata": {},
   "source": [
    "2번 문제<br>\n",
    ">filter함수를 사용하여, 문자열을 요소로 갖고있는 리스트 li에 문자열 text가 포함되어있는 요소만 추출하는 함수를 작성해주세요.<br>\n",
    "예시) li = {'abc','bcd','cde','def'}\n"
   ]
  },
  {
   "cell_type": "code",
   "execution_count": null,
   "metadata": {},
   "outputs": [],
   "source": []
  },
  {
   "cell_type": "code",
   "execution_count": null,
   "metadata": {},
   "outputs": [],
   "source": []
  },
  {
   "cell_type": "markdown",
   "metadata": {},
   "source": [
    "답은 밑에.."
   ]
  },
  {
   "cell_type": "code",
   "execution_count": null,
   "metadata": {},
   "outputs": [],
   "source": []
  },
  {
   "cell_type": "code",
   "execution_count": null,
   "metadata": {},
   "outputs": [],
   "source": []
  },
  {
   "cell_type": "code",
   "execution_count": null,
   "metadata": {},
   "outputs": [],
   "source": []
  },
  {
   "cell_type": "code",
   "execution_count": null,
   "metadata": {},
   "outputs": [],
   "source": []
  },
  {
   "cell_type": "code",
   "execution_count": null,
   "metadata": {},
   "outputs": [],
   "source": []
  },
  {
   "cell_type": "code",
   "execution_count": null,
   "metadata": {},
   "outputs": [],
   "source": []
  },
  {
   "cell_type": "code",
   "execution_count": null,
   "metadata": {},
   "outputs": [],
   "source": []
  },
  {
   "cell_type": "code",
   "execution_count": null,
   "metadata": {},
   "outputs": [],
   "source": []
  },
  {
   "cell_type": "code",
   "execution_count": null,
   "metadata": {},
   "outputs": [],
   "source": []
  },
  {
   "cell_type": "markdown",
   "metadata": {},
   "source": [
    "1번 정답"
   ]
  },
  {
   "cell_type": "code",
   "execution_count": null,
   "metadata": {},
   "outputs": [],
   "source": [
    "name = [\"suzy\", \"Park\", \"jung\", \"sung\"]\n",
    "\n",
    "age = [21, 24 ,24, 25]\n",
    "\n",
    "test_dict = dict(zip(name, age))\n",
    "\n",
    "age_p = int(input(\"나이를입력해주세요\"))\n",
    "def same_age(age_p):\n",
    "    for k, v in test_dict.items():\n",
    "        if age_p == v:\n",
    "            print(k)\n",
    "\n",
    "same_age(age_p)"
   ]
  },
  {
   "cell_type": "markdown",
   "metadata": {},
   "source": [
    "2번 정답"
   ]
  },
  {
   "cell_type": "code",
   "execution_count": null,
   "metadata": {},
   "outputs": [],
   "source": [
    "# 정답 예시(1)\n",
    "print(list(filter(lambda x : y in x, data)))\n",
    "# 정답 예시(2)\n",
    "def text_filter(li, text):\n",
    "    return list(filter(lambda x: text in x, li))\n",
    "text_filter([\"abc\", \"bcd\", \"def\", \"acd\"], \"a\")"
   ]
  }
 ],
 "metadata": {
  "kernelspec": {
   "display_name": "Python 3",
   "language": "python",
   "name": "python3"
  },
  "language_info": {
   "codemirror_mode": {
    "name": "ipython",
    "version": 3
   },
   "file_extension": ".py",
   "mimetype": "text/x-python",
   "name": "python",
   "nbconvert_exporter": "python",
   "pygments_lexer": "ipython3",
   "version": "3.8.5"
  }
 },
 "nbformat": 4,
 "nbformat_minor": 4
}
